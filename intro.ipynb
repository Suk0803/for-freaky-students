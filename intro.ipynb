{
 "cells": [
  {
   "cell_type": "markdown",
   "metadata": {},
   "source": [
    "# Hello My Students 😛\n",
    "###### #벌래들을 위한 코딩 특강\n",
    "\n",
    "### 목차\n",
    "1. Github 사용법\n",
    "\n",
    "2. 개발자 커뮤니티\n",
    "\n",
    "3. Googling tips\n",
    "\n",
    "4. 실력 증진을 위한 Solution\n",
    "\n",
    "5. Python 기초\n",
    "-  VS code 사용법"
   ]
  },
  {
   "cell_type": "markdown",
   "metadata": {},
   "source": [
    "# 개발자의 기본 Github\n",
    "\n",
    "### Github 란 무엇일까?\n",
    "그 전에 Git 에 대해 알아야 합니다.\n",
    "\n",
    "#### Git 과 Github\n",
    "\n",
    "##### what is git?\n",
    "\n",
    "git은 소규모 프로젝트부터 대규모 프로젝트까지 모든 것을 빠르고 효율적으로 처리하도록 설계된 무료 오픈 소스 분산 버전 제어 시스템입니다. 쉽게 말해 실시간 버전 관리를 위한 시스템 이라고 말 할 수 있습니다.\n",
    "\n",
    "깃은 모든 변화(무엇이 언제 어디서 누가 변경하였는가 와 같은)를 기록하고 하나의 파일에서 다른 프로젝트의 공통된 부분 수정과 여러버전(git history)을 저장 및 관리 할 수 있어 널리 쓰이고 있습니다.\n",
    "\n",
    "깃 덕분에 쉽고 간편하게 하나의 같은 파일을 가지고 여러명이 함께 일 을 할 수 있습니다. 서로의 변경사항이 충돌하지 않고 각기 다른 버전이 저장되기에 어디서 문제가 발생 했고 그 원인을 확인 할 수 있습니다.\n",
    "\n",
    "이때 여려명이 하나의 파일에 접근하여 서로의 git history 를 생성할 수 있게하는 것 이 바로 ‘깃허브’ 입니다.\n",
    "\n",
    "##### what is github\n",
    "\n",
    "깃허브는 클라우드에 있는 깃 제공자 로 쉽게 말해 내 컴퓨터의 git history 를 가져와서 깃허브 웹사이트에 push 하는 것입니다. 그 다음 팀원 혹은 협업자가 이에 접근할 수 있어 모든 변화를 불 수 있습니다.\n",
    "\n",
    "즉. 본인들의 깃 기록을 깃허브에 공유 하여 변화내용을 확인하고 교환할 수 있습니다.\n",
    "\n",
    "깃허브 이외의 다른 솔루션이 있지만 가장 널리쓰이는 것은 단연 깃허브 라고 할 수 있습니다.\n",
    "\n",
    "이것 말고도 방대한 오픈소스 프로젝트들이 공유되어 있기때문에 다른 솔루션에 비해 훨씬 매력적 이라고 할 수있습니다."
   ]
  },
  {
   "cell_type": "markdown",
   "metadata": {},
   "source": [
    "# 개발자들을 위한 커뮤니티\n",
    "\n",
    "### 여러 코딩관련 뉴스 지식들을 빠르게 획득 하는 법\n",
    "[hashnode.com](https://hashnode.com)\\\n",
    "[dev.to](https://dev.to/)\n",
    "\n",
    "### 개발자들의 정신적 지주\n",
    "[stackoverflow](https://stackoverflow.com/)"
   ]
  },
  {
   "cell_type": "markdown",
   "metadata": {},
   "source": [
    "# Googling Tips\n",
    "\n",
    "### 기본을 알고 싶다면 '~~~ baisc' 을 사용하라\n",
    "\n",
    "### 'A VS B' 를 적극 활용해라"
   ]
  },
  {
   "cell_type": "markdown",
   "metadata": {},
   "source": []
  }
 ],
 "metadata": {
  "kernelspec": {
   "display_name": "Python 3.10.7 64-bit",
   "language": "python",
   "name": "python3"
  },
  "language_info": {
   "name": "python",
   "version": "3.10.7"
  },
  "orig_nbformat": 4,
  "vscode": {
   "interpreter": {
    "hash": "aee8b7b246df8f9039afb4144a1f6fd8d2ca17a180786b69acc140d282b71a49"
   }
  }
 },
 "nbformat": 4,
 "nbformat_minor": 2
}
